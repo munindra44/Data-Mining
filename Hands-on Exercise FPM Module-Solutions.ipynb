{
 "cells": [
  {
   "cell_type": "markdown",
   "metadata": {},
   "source": [
    "# Hands-on Exercise for  FPM Module"
   ]
  },
  {
   "cell_type": "markdown",
   "metadata": {},
   "source": [
    "### 1. Exploring properties of the dataset accidents_10k.dat. Read more about it here:  http://fimi.uantwerpen.be/data/accidents.pdf"
   ]
  },
  {
   "cell_type": "code",
   "execution_count": 1,
   "metadata": {},
   "outputs": [
    {
     "name": "stdout",
     "output_type": "stream",
     "text": [
      "1 2 3 4 5 6 7 8 9 10 11 12 13 14 15 16 17 18 19 20 21 22 23 24 25 26 27 28 29 30 31 \r\n",
      "2 5 7 8 9 10 12 13 14 15 16 17 18 20 22 23 24 25 27 28 29 32 33 34 35 36 37 38 39 \r\n",
      "7 10 12 13 14 15 16 17 18 20 25 28 29 30 33 40 41 42 43 44 45 46 47 48 49 50 51 52 \r\n",
      "1 5 8 10 12 14 15 16 17 18 19 20 21 22 24 25 26 27 28 29 30 31 41 43 46 48 49 51 52 53 54 55 56 57 58 59 60 61 \r\n",
      "5 8 10 12 14 15 16 17 18 21 22 24 25 26 27 28 29 31 33 36 38 39 41 43 46 56 62 63 64 65 66 67 68 \r\n",
      "7 8 10 12 17 18 21 23 24 26 27 28 29 30 33 34 35 36 38 41 43 47 59 63 66 69 70 71 72 73 74 75 76 77 78 79 \r\n",
      "1 12 14 15 16 17 18 21 22 23 24 25 27 28 29 30 31 35 38 41 43 44 53 56 57 58 59 60 63 66 80 81 82 83 84 \r\n",
      "10 12 14 15 16 17 18 21 22 24 25 26 27 28 29 30 31 33 39 41 43 44 46 49 59 60 62 63 66 82 \r\n",
      "1 8 10 12 14 15 16 17 18 21 22 23 24 25 27 29 30 31 38 41 43 53 56 59 61 63 66 68 85 86 87 88 89 \r\n",
      "1 8 12 13 14 15 16 17 18 22 24 25 28 30 38 41 42 43 46 49 60 63 64 66 80 82 84 90 91 92 93 94 95 \r\n"
     ]
    }
   ],
   "source": [
    "!head accidents_10k.dat"
   ]
  },
  {
   "cell_type": "markdown",
   "metadata": {},
   "source": [
    "<span style=\"color:red\">**Question 1a:** </span>. How many items are there in the data?"
   ]
  },
  {
   "cell_type": "code",
   "execution_count": 2,
   "metadata": {},
   "outputs": [
    {
     "name": "stdout",
     "output_type": "stream",
     "text": [
      "310\r\n"
     ]
    }
   ],
   "source": [
    "!awk -- '{for (i = 1; i <= NF; i++) wc[$i] += 1}; END {print length(wc)}' accidents_10k.dat "
   ]
  },
  {
   "cell_type": "code",
   "execution_count": 3,
   "metadata": {},
   "outputs": [],
   "source": [
    "##!awk -- '{for (i = 1; i <= length; i++) wc += 1}; END {print wc}' accidents_10k.dat "
   ]
  },
  {
   "cell_type": "markdown",
   "metadata": {},
   "source": [
    "<span style=\"color:green\">**Answer:** </span> 310 items are there in the data."
   ]
  },
  {
   "cell_type": "markdown",
   "metadata": {},
   "source": [
    "<span style=\"color:red\">**Question 1b:** </span> How many transactions are present in the data?"
   ]
  },
  {
   "cell_type": "code",
   "execution_count": 4,
   "metadata": {},
   "outputs": [
    {
     "name": "stdout",
     "output_type": "stream",
     "text": [
      "10000 accidents_10k.dat\r\n"
     ]
    }
   ],
   "source": [
    "!wc -l accidents_10k.dat"
   ]
  },
  {
   "cell_type": "markdown",
   "metadata": {},
   "source": [
    "<span style=\"color:green\">**Answer:** </span> 10,000 transactions"
   ]
  },
  {
   "cell_type": "markdown",
   "metadata": {},
   "source": [
    "<span style=\"color:red\">**Question 1c:** </span>.  What is the length of the smallest transaction?"
   ]
  },
  {
   "cell_type": "code",
   "execution_count": 5,
   "metadata": {},
   "outputs": [],
   "source": [
    "##!awk '{print $NF}' accidents_10k.dat"
   ]
  },
  {
   "cell_type": "code",
   "execution_count": 6,
   "metadata": {},
   "outputs": [],
   "source": [
    "##!awk \"{print length}\" accidents_10k.dat"
   ]
  },
  {
   "cell_type": "code",
   "execution_count": 7,
   "metadata": {},
   "outputs": [
    {
     "name": "stdout",
     "output_type": "stream",
     "text": [
      "69\r\n"
     ]
    }
   ],
   "source": [
    "!awk '(NR==1||length<s){s=length} END {print s}' accidents_10k.dat"
   ]
  },
  {
   "cell_type": "markdown",
   "metadata": {},
   "source": [
    "<span style=\"color:green\">**Answer:** </span>69"
   ]
  },
  {
   "cell_type": "markdown",
   "metadata": {},
   "source": [
    "<span style=\"color:red\">**Question 1d:** </span>  What is the length of the longest transaction?"
   ]
  },
  {
   "cell_type": "code",
   "execution_count": 8,
   "metadata": {},
   "outputs": [
    {
     "name": "stdout",
     "output_type": "stream",
     "text": [
      "145\r\n"
     ]
    }
   ],
   "source": [
    "!awk '{ if (length > max) max = length } END { print max }' accidents_10k.dat "
   ]
  },
  {
   "cell_type": "markdown",
   "metadata": {},
   "source": [
    "<span style=\"color:green\">**Answer:** </span> 145"
   ]
  },
  {
   "cell_type": "markdown",
   "metadata": {},
   "source": [
    "<span style=\"color:red\">**Question 1e:** </span>  What is the size of the search space of frequent itemsets in this data?"
   ]
  },
  {
   "cell_type": "code",
   "execution_count": 9,
   "metadata": {},
   "outputs": [
    {
     "name": "stdout",
     "output_type": "stream",
     "text": [
      "2085924839766513752338888384931203236916703635113918720651407820138886450957656787131798913024\n"
     ]
    }
   ],
   "source": [
    "print(pow(2,310))"
   ]
  },
  {
   "cell_type": "markdown",
   "metadata": {},
   "source": [
    "<span style=\"color:green\">**Answer:** </span> 2 power 310"
   ]
  },
  {
   "cell_type": "markdown",
   "metadata": {},
   "source": [
    "<span style=\"color:red\">**Question 1f:** </span> \n",
    "Assume that you work for the deparment of transportation that collected this data. What benefit do you see in using itemset mining approaches on this data?"
   ]
  },
  {
   "cell_type": "markdown",
   "metadata": {},
   "source": [
    "<span style=\"color:green\">**Answer:** </span> By using this approach we can find the possible accidents in the future. I can use the data and predict the possible accident locations and the type of roads most of the accidents occur. I Can also filter the possible accidents based on the season by seeing the common pattern of accidents in the previous seasons/year."
   ]
  },
  {
   "cell_type": "markdown",
   "metadata": {},
   "source": [
    "<span style=\"color:red\">**Question 1g:** </span>  What type of itemsets (frequent, maximial or closed) would you be interested in discovering this dataset? State your reason."
   ]
  },
  {
   "cell_type": "markdown",
   "metadata": {},
   "source": [
    "<span style=\"color:green\">**Answer:** </span> I would be interested to find the number of Maximal Itemsets in the dataset. I want to find the frequent itemsets but i dont want huge chunk of frequent itemsets, so i will find maximum itemsets(which can be useful to derive all the maximal itemsets).<br><br> But if i want to find the most occuring or best frequent pattern i will find the closed itemsets."
   ]
  },
  {
   "cell_type": "markdown",
   "metadata": {},
   "source": [
    "<span style=\"color:red\">**Question 1h:** </span>  What minsup threshold would you use and why?"
   ]
  },
  {
   "cell_type": "markdown",
   "metadata": {},
   "source": [
    "<span style=\"color:green\">**Answer:** </span> If i take very low minsup then the number of frequent itemsets in the data can be very large. If i take high minsup then i could miss out on some important frequent pattern in the data. So i should take minsup such that it captures best possib le frequent itemsets. I would choose minsup = Total_transactions/2 or Total_transactions/3. That is in this case 4000 or 5000.<br><br> The selection of minsup purely depends on the data and how i want to capture the data."
   ]
  },
  {
   "cell_type": "markdown",
   "metadata": {},
   "source": [
    "### 2. Generating frequent, maximal and closed itemsets using $\\color{red}{\\text{Apriori}}$, $\\color{red}{\\text{ECLAT}}$, and $\\color{red}{\\text{FPGrowth}}$ algorihtms from the dataset accidents_10k.dat "
   ]
  },
  {
   "cell_type": "markdown",
   "metadata": {},
   "source": [
    "<span style=\"color:red\">**Question 2a:** </span> Generate frequent itemsets using Apriori, for minsup = 2000, 3000, and 4000. Which of these minsup thresholds results in a maximum number of frequent itemsets? Which of these minsup thresholds results in a least number of frequent itemsets? Provide a rationale for these observations."
   ]
  },
  {
   "cell_type": "code",
   "execution_count": 10,
   "metadata": {
    "scrolled": true
   },
   "outputs": [],
   "source": [
    "!chmod u+x apriori"
   ]
  },
  {
   "cell_type": "code",
   "execution_count": 11,
   "metadata": {},
   "outputs": [
    {
     "name": "stdout",
     "output_type": "stream",
     "text": [
      "usage: ./apriori [options] infile [outfile]\r\n",
      "find frequent item sets with the apriori algorithm\r\n",
      "version 6.27 (2017.08.01)        (c) 1996-2017   Christian Borgelt\r\n",
      "-t#      target type                              (default: s)\r\n",
      "         (s: frequent, c: closed, m: maximal item sets,\r\n",
      "          g: generators, r: association rules)\r\n",
      "-m#      minimum number of items per set/rule     (default: 1)\r\n",
      "-n#      maximum number of items per set/rule     (default: no limit)\r\n",
      "-s#      minimum support of an item set/rule      (default: 10%)\r\n",
      "-S#      maximum support of an item set/rule      (default: 100%)\r\n",
      "         (positive: percentage, negative: absolute number)\r\n",
      "-o       use original rule support definition     (body & head)\r\n",
      "-c#      minimum confidence of an assoc. rule     (default: 80%)\r\n",
      "-e#      additional evaluation measure            (default: none)\r\n",
      "-a#      aggregation mode for evaluation measure  (default: none)\r\n",
      "-d#      threshold for add. evaluation measure    (default: 10%)\r\n",
      "-i       invalidate eval. below expected support  (default: evaluate all)\r\n",
      "-p#      (min. size for) pruning with evaluation  (default: no pruning)\r\n",
      "         (< 0: weak forward, > 0 strong forward, = 0: backward pruning)\r\n",
      "-q#      sort items w.r.t. their frequency        (default: 2)\r\n",
      "         (1: ascending, -1: descending, 0: do not sort,\r\n",
      "          2: ascending, -2: descending w.r.t. transaction size sum)\r\n",
      "-u#      filter unused items from transactions    (default: 0.01)\r\n",
      "         (0: do not filter items w.r.t. usage in sets,\r\n",
      "         <0: fraction of removed items for filtering,\r\n",
      "         >0: take execution times ratio into account)\r\n",
      "-x       do not prune with perfect extensions     (default: prune)\r\n",
      "-y       a-posteriori pruning of infrequent item sets\r\n",
      "-T       do not organize transactions as a prefix tree\r\n",
      "-F#:#..  support border for filtering item sets   (default: none)\r\n",
      "         (list of minimum support values, one per item set size,\r\n",
      "         starting at the minimum size, as given with option -m#)\r\n",
      "-R#      read item selection/appearance indicators\r\n",
      "-P#      write a pattern spectrum to a file\r\n",
      "-Z       print item set statistics (number of item sets per size)\r\n",
      "-N       do not pre-format some integer numbers   (default: do)\r\n",
      "-g       write item names in scanable form (quote certain characters)\r\n",
      "-h#      record header  for output                (default: \"\")\r\n",
      "-k#      item separator for output                (default: \" \")\r\n",
      "-I#      implication sign for association rules   (default: \" <- \")\r\n",
      "-v#      output format for set/rule information   (default: \" (%S)\")\r\n",
      "-j#      sort item sets in output by their size   (default: no sorting)\r\n",
      "         (< 0: descending, > 0: ascending order)\r\n",
      "-w       integer transaction weight in last field (default: only items)\r\n",
      "-r#      record/transaction separators            (default: \"\\n\")\r\n",
      "-f#      field /item        separators            (default: \" \\t,\")\r\n",
      "-b#      blank   characters                       (default: \" \\t\\r\")\r\n",
      "-C#      comment characters                       (default: \"#\")\r\n",
      "-!       print additional option information\r\n",
      "infile   file to read transactions from           [required]\r\n",
      "outfile  file to write item sets/assoc. rules to  [optional]\r\n"
     ]
    }
   ],
   "source": [
    "!./apriori"
   ]
  },
  {
   "cell_type": "code",
   "execution_count": 12,
   "metadata": {},
   "outputs": [
    {
     "name": "stdout",
     "output_type": "stream",
     "text": [
      "./apriori - find frequent item sets with the apriori algorithm\n",
      "version 6.27 (2017.08.01)        (c) 1996-2017   Christian Borgelt\n",
      "reading accidents_10k.dat ... [310 item(s), 10000 transaction(s)] done [0.02s].\n",
      "filtering, sorting and recoding items ... [49 item(s)] done [0.00s].\n",
      "sorting and reducing transactions ... [9951/10000 transaction(s)] done [0.01s].\n",
      "building transaction tree ... [20250 node(s)] done [0.00s].\n",
      "checking subsets of size 1 2 3 4 5 6 7 8 9 10 11 12 13 done [16.98s].\n",
      "writing accidents_minsup2000.txt ... [851034 set(s)] done [0.09s].\n"
     ]
    }
   ],
   "source": [
    "!./apriori -ts -s-2000 accidents_10k.dat accidents_minsup2000.txt"
   ]
  },
  {
   "cell_type": "code",
   "execution_count": 13,
   "metadata": {},
   "outputs": [
    {
     "name": "stdout",
     "output_type": "stream",
     "text": [
      "./apriori - find frequent item sets with the apriori algorithm\n",
      "version 6.27 (2017.08.01)        (c) 1996-2017   Christian Borgelt\n",
      "reading accidents_10k.dat ... [310 item(s), 10000 transaction(s)] done [0.02s].\n",
      "filtering, sorting and recoding items ... [38 item(s)] done [0.00s].\n",
      "sorting and reducing transactions ... [9674/10000 transaction(s)] done [0.00s].\n",
      "building transaction tree ... [24741 node(s)] done [0.01s].\n",
      "checking subsets of size 1 2 3 4 5 6 7 8 9 10 11 12 done [4.12s].\n",
      "writing accidents_minsup3000.txt ... [133799 set(s)] done [0.01s].\n"
     ]
    }
   ],
   "source": [
    "!./apriori -ts -s-3000 accidents_10k.dat accidents_minsup3000.txt"
   ]
  },
  {
   "cell_type": "code",
   "execution_count": 14,
   "metadata": {},
   "outputs": [
    {
     "name": "stdout",
     "output_type": "stream",
     "text": [
      "./apriori - find frequent item sets with the apriori algorithm\n",
      "version 6.27 (2017.08.01)        (c) 1996-2017   Christian Borgelt\n",
      "reading accidents_10k.dat ... [310 item(s), 10000 transaction(s)] done [0.02s].\n",
      "filtering, sorting and recoding items ... [33 item(s)] done [0.00s].\n",
      "sorting and reducing transactions ... [9381/10000 transaction(s)] done [0.01s].\n",
      "building transaction tree ... [22267 node(s)] done [0.00s].\n",
      "checking subsets of size 1 2 3 4 5 6 7 8 9 10 11 done [1.14s].\n",
      "writing accidents_minsup4000.txt ... [29501 set(s)] done [0.00s].\n"
     ]
    }
   ],
   "source": [
    "!./apriori -ts -s-4000 accidents_10k.dat accidents_minsup4000.txt"
   ]
  },
  {
   "cell_type": "code",
   "execution_count": 15,
   "metadata": {},
   "outputs": [
    {
     "name": "stdout",
     "output_type": "stream",
     "text": [
      "851034 accidents_minsup2000.txt\n",
      "133799 accidents_minsup3000.txt\n",
      "29501 accidents_minsup4000.txt\n"
     ]
    }
   ],
   "source": [
    "!wc -l accidents_minsup2000.txt\n",
    "!wc -l accidents_minsup3000.txt\n",
    "!wc -l accidents_minsup4000.txt"
   ]
  },
  {
   "cell_type": "markdown",
   "metadata": {},
   "source": [
    "<span style=\"color:green\">**Answer:** </span> For minsup=2000: [851034 set(s)] \n",
    "For minsup=3000: [133799 set(s)] \n",
    "For minsup=4000: [29501 set(s)] .<br> So we get maximum number of frequent itemsets for minsup=2000.<br>\n",
    "And we get maximum number of frequent itemsets for minsup=4000.<br>\n",
    "<br> From this we can observe that an increase in minsup can result in getting less number of frequent itemsets. So The minsup and number of frequent itemsets are inversely proportinal to each other.                "
   ]
  },
  {
   "cell_type": "markdown",
   "metadata": {},
   "source": [
    "<span style=\"color:red\">**Question 2b:** </span>   Using Apriori, compare the execution time for finding frequent itemsets for minsup = 2000, 3000, and 4000. Which of these minsup thresholds takes the least amount of time? Provide a rationale for this observation."
   ]
  },
  {
   "cell_type": "code",
   "execution_count": 16,
   "metadata": {},
   "outputs": [
    {
     "name": "stdout",
     "output_type": "stream",
     "text": [
      "./apriori - find frequent item sets with the apriori algorithm\n",
      "version 6.27 (2017.08.01)        (c) 1996-2017   Christian Borgelt\n",
      "reading accidents_10k.dat ... [310 item(s), 10000 transaction(s)] done [0.02s].\n",
      "filtering, sorting and recoding items ... [49 item(s)] done [0.00s].\n",
      "sorting and reducing transactions ... [9951/10000 transaction(s)] done [0.00s].\n",
      "building transaction tree ... [20250 node(s)] done [0.00s].\n",
      "checking subsets of size 1 2 3 4 5 6 7 8 9 10 11 12 13 done [17.06s].\n",
      "writing <null> ... [851034 set(s)] done [0.01s].\n",
      "Time:  0:00:17.709695\n",
      "------------------------------------\n",
      "./apriori - find frequent item sets with the apriori algorithm\n",
      "version 6.27 (2017.08.01)        (c) 1996-2017   Christian Borgelt\n",
      "reading accidents_10k.dat ... [310 item(s), 10000 transaction(s)] done [0.03s].\n",
      "filtering, sorting and recoding items ... [38 item(s)] done [0.00s].\n",
      "sorting and reducing transactions ... [9674/10000 transaction(s)] done [0.01s].\n",
      "building transaction tree ... [24741 node(s)] done [0.00s].\n",
      "checking subsets of size 1 2 3 4 5 6 7 8 9 10 11 12 done [4.27s].\n",
      "writing <null> ... [133799 set(s)] done [0.00s].\n",
      "Time:  0:00:04.599490\n",
      "------------------------------------\n",
      "./apriori - find frequent item sets with the apriori algorithm\n",
      "version 6.27 (2017.08.01)        (c) 1996-2017   Christian Borgelt\n",
      "reading accidents_10k.dat ... [310 item(s), 10000 transaction(s)] done [0.02s].\n",
      "filtering, sorting and recoding items ... [33 item(s)] done [0.00s].\n",
      "sorting and reducing transactions ... [9381/10000 transaction(s)] done [0.01s].\n",
      "building transaction tree ... [22267 node(s)] done [0.00s].\n",
      "checking subsets of size 1 2 3 4 5 6 7 8 9 10 11 done [1.32s].\n",
      "writing <null> ... [29501 set(s)] done [0.00s].\n",
      "Time:  0:00:01.599914\n",
      "------------------------------------\n"
     ]
    }
   ],
   "source": [
    "import datetime \n",
    "start = datetime.datetime.now()\n",
    "!./apriori -ts -s-2000 accidents_10k.dat \n",
    "end = datetime.datetime.now()\n",
    "elapsed = end - start\n",
    "print(\"Time: \",elapsed);\n",
    "print(\"------------------------------------\")\n",
    "start2 = datetime.datetime.now()\n",
    "!./apriori -ts -s-3000 accidents_10k.dat \n",
    "end2 = datetime.datetime.now()\n",
    "elapsed2 = end2 - start2\n",
    "print(\"Time: \",elapsed2);\n",
    "print(\"------------------------------------\")\n",
    "start3 = datetime.datetime.now()\n",
    "!./apriori -ts -s-4000 accidents_10k.dat\n",
    "end3 = datetime.datetime.now()\n",
    "elapsed3 = end3 - start3\n",
    "print(\"Time: \",elapsed3);\n",
    "print(\"------------------------------------\")"
   ]
  },
  {
   "cell_type": "markdown",
   "metadata": {},
   "source": [
    "<span style=\"color:green\">**Answer:** </span>For minsup=2000 the execution time is greater than minsup=4000.\n",
    "    <br>Execution time is in the order: minsup2000 > minsup3000 > minsup4000.\n",
    "    <br> The least time to run the apriori algorithm is when minsup = 4000.\n",
    "    <br> If the support value is higher it results in less number of branches in the nodes of the tree. Then it results in giving less number of branches in the next level. It means looking in less number of nodes in the tree, which results in faster execution."
   ]
  },
  {
   "cell_type": "markdown",
   "metadata": {},
   "source": [
    "<span style=\"color:red\">**Question 2c:** </span> Using Apriori, find the frequent itemsets for minsup = 2000, 3000, and 4000. Determine the number of itemsets for each size (1 to max length of an itemset). What trends do you see that are common for all three minsup thresholds? What trends do you see that are different? Provide a rationale for these observations."
   ]
  },
  {
   "cell_type": "code",
   "execution_count": 17,
   "metadata": {
    "scrolled": true
   },
   "outputs": [
    {
     "name": "stdout",
     "output_type": "stream",
     "text": [
      "     49 1\n",
      "    705 2\n",
      "   5285 3\n",
      "  23745 4\n",
      "  69647 5\n",
      " 139628 6\n",
      " 195730 7\n",
      " 193299 8\n",
      " 133819 9\n",
      "  63937 10\n",
      "  20497 11\n",
      "   4189 12\n",
      "    483 13\n",
      "     21 14\n"
     ]
    }
   ],
   "source": [
    "!awk '{print NF-1}' accidents_minsup2000.txt|sort -n|uniq -c"
   ]
  },
  {
   "cell_type": "code",
   "execution_count": 18,
   "metadata": {},
   "outputs": [
    {
     "name": "stdout",
     "output_type": "stream",
     "text": [
      "     38 1\n",
      "    468 2\n",
      "   2830 3\n",
      "   9887 4\n",
      "  21779 5\n",
      "  31964 6\n",
      "  32020 7\n",
      "  21862 8\n",
      "   9839 9\n",
      "   2705 10\n",
      "    387 11\n",
      "     20 12\n"
     ]
    }
   ],
   "source": [
    "!awk '{print NF-1}' accidents_minsup3000.txt|sort -n|uniq -c"
   ]
  },
  {
   "cell_type": "code",
   "execution_count": 19,
   "metadata": {},
   "outputs": [
    {
     "name": "stdout",
     "output_type": "stream",
     "text": [
      "     33 1\n",
      "    319 2\n",
      "   1492 3\n",
      "   4043 4\n",
      "   6926 5\n",
      "   7751 6\n",
      "   5626 7\n",
      "   2546 8\n",
      "    668 9\n",
      "     91 10\n",
      "      6 11\n"
     ]
    }
   ],
   "source": [
    "!awk '{print NF-1}' accidents_minsup4000.txt|sort -n|uniq -c"
   ]
  },
  {
   "cell_type": "markdown",
   "metadata": {},
   "source": [
    "<span style=\"color:green\">**Answer:** </span> Initially The number of Itemsets are low but its number increases and after the meanpoint of the frequent itemsets, decreases till the max length of itemset.<br><br> It is like a normal distribution curve. <br>\n",
    "The max length of Frequent Itemset decreases with the increase in the minsup.\n",
    "<br> Even if the number of frequent itemsets decreases the pattern follows a normal distribution,where most of the frequent itemsets are in the median length of itemsets."
   ]
  },
  {
   "cell_type": "markdown",
   "metadata": {},
   "source": [
    "<span style=\"color:red\">**Question 2d:** </span>  Using Apriori with minsup=2000, compare the number of frequent, maximal, and closed itemsets. Which is the largest set and which is the smallest set? Provide a rationale for these observations."
   ]
  },
  {
   "cell_type": "code",
   "execution_count": 20,
   "metadata": {},
   "outputs": [
    {
     "name": "stdout",
     "output_type": "stream",
     "text": [
      "./apriori - find frequent item sets with the apriori algorithm\n",
      "version 6.27 (2017.08.01)        (c) 1996-2017   Christian Borgelt\n",
      "reading accidents_10k.dat ... [310 item(s), 10000 transaction(s)] done [0.02s].\n",
      "filtering, sorting and recoding items ... [49 item(s)] done [0.00s].\n",
      "sorting and reducing transactions ... [9951/10000 transaction(s)] done [0.01s].\n",
      "building transaction tree ... [20250 node(s)] done [0.00s].\n",
      "checking subsets of size 1 2 3 4 5 6 7 8 9 10 11 12 13 14 done [24.87s].\n",
      "filtering for maximal item sets ... done [0.02s].\n",
      "writing maximal_itemset.txt ... [12330 set(s)] done [0.01s].\n",
      "./apriori - find frequent item sets with the apriori algorithm\n",
      "version 6.27 (2017.08.01)        (c) 1996-2017   Christian Borgelt\n",
      "reading accidents_10k.dat ... [310 item(s), 10000 transaction(s)] done [0.02s].\n",
      "filtering, sorting and recoding items ... [49 item(s)] done [0.00s].\n",
      "sorting and reducing transactions ... [9951/10000 transaction(s)] done [0.01s].\n",
      "building transaction tree ... [20250 node(s)] done [0.00s].\n",
      "checking subsets of size 1 2 3 4 5 6 7 8 9 10 11 12 13 14 done [25.27s].\n",
      "filtering for closed item sets ... done [0.43s].\n",
      "writing closed_itemset.txt ... [519902 set(s)] done [0.10s].\n"
     ]
    }
   ],
   "source": [
    "!./apriori -tm -s-2000 accidents_10k.dat maximal_itemset.txt\n",
    "!./apriori -tc -s-2000 accidents_10k.dat closed_itemset.txt"
   ]
  },
  {
   "cell_type": "markdown",
   "metadata": {},
   "source": [
    "<span style=\"color:green\">**Answer:** </span> Number of Frequent Itemsets: 851034;\n",
    "<br> Number of Maximal Itemsets: 12330; \n",
    "<br> Number of Closed Itemsets: 519902;\n",
    "<br> Largest Set: Frequent Itemset; Smallest Set: Maximal Itemset.\n",
    "<br> The maximal itemsets are subset of closed itemsets which are subset of frequent itemsets.\n",
    "<br> Maximal Itemsets &sub; Closed Itemsets &sub; Frequent Itemset."
   ]
  },
  {
   "cell_type": "markdown",
   "metadata": {},
   "source": [
    "<span style=\"color:red\">**Question 2e:** </span> For a minsup = 2000, compare the execution time for Apriori, ECLAT and FPGrowth. Which of these algorithms took the least amount of time. Provide a rationale for this observation."
   ]
  },
  {
   "cell_type": "code",
   "execution_count": 21,
   "metadata": {},
   "outputs": [],
   "source": [
    "!chmod u+x fpgrowth"
   ]
  },
  {
   "cell_type": "code",
   "execution_count": 22,
   "metadata": {},
   "outputs": [],
   "source": [
    "!chmod u+x eclat"
   ]
  },
  {
   "cell_type": "code",
   "execution_count": 23,
   "metadata": {},
   "outputs": [
    {
     "name": "stdout",
     "output_type": "stream",
     "text": [
      "./apriori - find frequent item sets with the apriori algorithm\n",
      "version 6.27 (2017.08.01)        (c) 1996-2017   Christian Borgelt\n",
      "reading accidents_10k.dat ... [310 item(s), 10000 transaction(s)] done [0.01s].\n",
      "filtering, sorting and recoding items ... [49 item(s)] done [0.01s].\n",
      "sorting and reducing transactions ... [9951/10000 transaction(s)] done [0.00s].\n",
      "building transaction tree ... [20250 node(s)] done [0.00s].\n",
      "checking subsets of size 1 2 3 4 5 6 7 8 9 10 11 12 13 done [17.01s].\n",
      "writing <null> ... [851034 set(s)] done [0.01s].\n",
      "------------------------------------\n",
      "Time for apriori:  0:00:17.670756\n",
      "------------------------------------\n",
      "./eclat - find frequent item sets with the eclat algorithm\n",
      "version 5.21 (2019.03.31)        (c) 2002-2019   Christian Borgelt\n",
      "reading accidents_10k.dat ... [310 item(s), 10000 transaction(s)] done [0.02s].\n",
      "filtering, sorting and recoding items ... [49 item(s)] done [0.00s].\n",
      "sorting and reducing transactions ... [9951/10000 transaction(s)] done [0.01s].\n",
      "writing <null> ... [851034 set(s)] done [0.25s].\n",
      "------------------------------------\n",
      "Time for eclat:  0:00:00.520795\n",
      "------------------------------------\n",
      "./fpgrowth - find frequent item sets with the fpgrowth algorithm\n",
      "version 6.18 (2019.03.31)        (c) 2004-2019   Christian Borgelt\n",
      "reading accidents_10k.dat ... [310 item(s), 10000 transaction(s)] done [0.02s].\n",
      "filtering, sorting and recoding items ... [49 item(s)] done [0.00s].\n",
      "sorting and reducing transactions ... [9951/10000 transaction(s)] done [0.00s].\n",
      "writing <null> ... [851034 set(s)] done [0.08s].\n",
      "------------------------------------\n",
      "Time for fpgrowth:  0:00:00.350361\n"
     ]
    }
   ],
   "source": [
    "start = datetime.datetime.now()\n",
    "!./apriori -ts -s-2000 accidents_10k.dat\n",
    "end = datetime.datetime.now()\n",
    "elapsed = end - start\n",
    "print(\"------------------------------------\")\n",
    "print(\"Time for apriori: \",elapsed);\n",
    "print(\"------------------------------------\")\n",
    "start2 = datetime.datetime.now()\n",
    "!./eclat -ts -s-2000 accidents_10k.dat\n",
    "end2 = datetime.datetime.now()\n",
    "elapsed2 = end2 - start2\n",
    "print(\"------------------------------------\")\n",
    "print(\"Time for eclat: \",elapsed2);\n",
    "print(\"------------------------------------\")\n",
    "start3 = datetime.datetime.now()\n",
    "!./fpgrowth -ts -s-2000 accidents_10k.dat\n",
    "end3 = datetime.datetime.now()\n",
    "elapsed3 = end3 - start3\n",
    "print(\"------------------------------------\")\n",
    "print(\"Time for fpgrowth: \",elapsed3);"
   ]
  },
  {
   "cell_type": "markdown",
   "metadata": {},
   "source": [
    "<span style=\"color:green\">**Answer:** </span> \n",
    "FPgrowth algorithm took least amount of time compared to other two algorithms.\n",
    "<br> It is a projection baswed approach where the number of nodes are greatly reduced and we check each node whether the item satisfy the minsup condition or not. This can greatly reduce the search space and time of execution.<br> Then the best approach is the ECLAT algorithm which is based on the vertical approach. The apriori algorithm on the other hand is a level wise approach which takes a lot of time with an increase in itemsets."
   ]
  },
  {
   "cell_type": "markdown",
   "metadata": {},
   "source": [
    "<span style=\"color:red\">**Question 2f:** </span> For a minsup = 4000, compare the execution time for Apriori, ECLAT and FPGrowth. Which of these algorithms took the least amount of time. Provide a rationale for this observation."
   ]
  },
  {
   "cell_type": "code",
   "execution_count": 24,
   "metadata": {},
   "outputs": [
    {
     "name": "stdout",
     "output_type": "stream",
     "text": [
      "./apriori - find frequent item sets with the apriori algorithm\n",
      "version 6.27 (2017.08.01)        (c) 1996-2017   Christian Borgelt\n",
      "reading accidents_10k.dat ... [310 item(s), 10000 transaction(s)] done [0.01s].\n",
      "filtering, sorting and recoding items ... [33 item(s)] done [0.00s].\n",
      "sorting and reducing transactions ... [9381/10000 transaction(s)] done [0.00s].\n",
      "building transaction tree ... [22267 node(s)] done [0.01s].\n",
      "checking subsets of size 1 2 3 4 5 6 7 8 9 10 11 done [1.21s].\n",
      "writing <null> ... [29501 set(s)] done [0.00s].\n",
      "------------------------------------\n",
      "Time for apriori:  0:00:01.494634\n",
      "------------------------------------\n",
      "./eclat - find frequent item sets with the eclat algorithm\n",
      "version 5.21 (2019.03.31)        (c) 2002-2019   Christian Borgelt\n",
      "reading accidents_10k.dat ... [310 item(s), 10000 transaction(s)] done [0.02s].\n",
      "filtering, sorting and recoding items ... [33 item(s)] done [0.00s].\n",
      "sorting and reducing transactions ... [9381/10000 transaction(s)] done [0.00s].\n",
      "writing <null> ... [29501 set(s)] done [0.04s].\n",
      "------------------------------------\n",
      "Time for eclat:  0:00:00.332723\n",
      "------------------------------------\n",
      "./fpgrowth - find frequent item sets with the fpgrowth algorithm\n",
      "version 6.18 (2019.03.31)        (c) 2004-2019   Christian Borgelt\n",
      "reading accidents_10k.dat ... [310 item(s), 10000 transaction(s)] done [0.01s].\n",
      "filtering, sorting and recoding items ... [33 item(s)] done [0.01s].\n",
      "sorting and reducing transactions ... [9381/10000 transaction(s)] done [0.00s].\n",
      "writing <null> ... [29501 set(s)] done [0.01s].\n",
      "------------------------------------\n",
      "Time for fpgrowth:  0:00:00.253348\n"
     ]
    }
   ],
   "source": [
    "start = datetime.datetime.now()\n",
    "!./apriori -ts -s-4000 accidents_10k.dat\n",
    "end = datetime.datetime.now()\n",
    "elapsed = end - start\n",
    "print(\"------------------------------------\")\n",
    "print(\"Time for apriori: \",elapsed);\n",
    "print(\"------------------------------------\")\n",
    "start2 = datetime.datetime.now()\n",
    "!./eclat -ts -s-4000 accidents_10k.dat\n",
    "end2 = datetime.datetime.now()\n",
    "elapsed2 = end2 - start2\n",
    "print(\"------------------------------------\")\n",
    "print(\"Time for eclat: \",elapsed2);\n",
    "print(\"------------------------------------\")\n",
    "start3 = datetime.datetime.now()\n",
    "!./fpgrowth -ts -s-4000 accidents_10k.dat\n",
    "end3 = datetime.datetime.now()\n",
    "elapsed3 = end3 - start3\n",
    "print(\"------------------------------------\")\n",
    "print(\"Time for fpgrowth: \",elapsed3);"
   ]
  },
  {
   "cell_type": "markdown",
   "metadata": {},
   "source": [
    "<span style=\"color:green\">**Answer:** </span>FPgrowth algorithm took least amount of time compared to other two algorithms. The apriori algorithm execution time is greatly reduced compared to when we taken minsup=2000.\n"
   ]
  },
  {
   "cell_type": "markdown",
   "metadata": {},
   "source": [
    "<span style=\"color:red\">**Question 2g:** </span>  For a minsup = 6000, compare the execution time for Apriori, ECLAT and FPGrowth. Which of these algorithms took the least amount of time. Provide a rationale for this observation."
   ]
  },
  {
   "cell_type": "code",
   "execution_count": 26,
   "metadata": {},
   "outputs": [
    {
     "name": "stdout",
     "output_type": "stream",
     "text": [
      "./apriori - find frequent item sets with the apriori algorithm\n",
      "version 6.27 (2017.08.01)        (c) 1996-2017   Christian Borgelt\n",
      "reading accidents_10k.dat ... [310 item(s), 10000 transaction(s)] done [0.01s].\n",
      "filtering, sorting and recoding items ... [20 item(s)] done [0.01s].\n",
      "sorting and reducing transactions ... [3216/10000 transaction(s)] done [0.00s].\n",
      "building transaction tree ... [6478 node(s)] done [0.00s].\n",
      "checking subsets of size 1 2 3 4 5 6 7 8 done [0.04s].\n",
      "writing <null> ... [2254 set(s)] done [0.00s].\n",
      "------------------------------------\n",
      "Time for apriori:  0:00:00.306524\n",
      "------------------------------------\n",
      "./eclat - find frequent item sets with the eclat algorithm\n",
      "version 5.21 (2019.03.31)        (c) 2002-2019   Christian Borgelt\n",
      "reading accidents_10k.dat ... [310 item(s), 10000 transaction(s)] done [0.01s].\n",
      "filtering, sorting and recoding items ... [20 item(s)] done [0.01s].\n",
      "sorting and reducing transactions ... [3216/10000 transaction(s)] done [0.00s].\n",
      "writing <null> ... [2254 set(s)] done [0.01s].\n",
      "------------------------------------\n",
      "Time for eclat:  0:00:00.272711\n",
      "------------------------------------\n",
      "./fpgrowth - find frequent item sets with the fpgrowth algorithm\n",
      "version 6.18 (2019.03.31)        (c) 2004-2019   Christian Borgelt\n",
      "reading accidents_10k.dat ... [310 item(s), 10000 transaction(s)] done [0.02s].\n",
      "filtering, sorting and recoding items ... [20 item(s)] done [0.01s].\n",
      "sorting and reducing transactions ... [3216/10000 transaction(s)] done [0.00s].\n",
      "writing <null> ... [2254 set(s)] done [0.00s].\n",
      "------------------------------------\n",
      "Time for fpgrowth:  0:00:00.273894\n"
     ]
    }
   ],
   "source": [
    "start = datetime.datetime.now()\n",
    "!./apriori -ts -s-6000 accidents_10k.dat\n",
    "end = datetime.datetime.now()\n",
    "elapsed = end - start\n",
    "print(\"------------------------------------\")\n",
    "print(\"Time for apriori: \",elapsed);\n",
    "print(\"------------------------------------\")\n",
    "start2 = datetime.datetime.now()\n",
    "!./eclat -ts -s-6000 accidents_10k.dat\n",
    "end2 = datetime.datetime.now()\n",
    "elapsed2 = end2 - start2\n",
    "print(\"------------------------------------\")\n",
    "print(\"Time for eclat: \",elapsed2);\n",
    "print(\"------------------------------------\")\n",
    "start3 = datetime.datetime.now()\n",
    "!./fpgrowth -ts -s-6000 accidents_10k.dat\n",
    "end3 = datetime.datetime.now()\n",
    "elapsed3 = end3 - start3\n",
    "print(\"------------------------------------\")\n",
    "print(\"Time for fpgrowth: \",elapsed3);"
   ]
  },
  {
   "cell_type": "markdown",
   "metadata": {},
   "source": [
    "<span style=\"color:green\">**Answer:** </span> FPgrowth algorithm still takes the least amount of time compared to other two algorithms.<br> But we can see as minsup value increases, the execution times of the given three algorithms are almost closeby/similar."
   ]
  },
  {
   "cell_type": "markdown",
   "metadata": {},
   "source": [
    "<span style=\"color:red\">**Question 2h:** </span> Fill the following table based on execution times computed in __2e__, __2f__, and __2g__. State your observations on the relative computational efficiency at different support thresholds. Based on your knowledge of these algorithms, provide the reasons behind your observations."
   ]
  },
  {
   "cell_type": "markdown",
   "metadata": {},
   "source": [
    "|   Algorithm                |minsup=2000         |minsup=4000         |minsup=6000         |\n",
    "|----------------------------|--------------------|--------------------|--------------------|    \n",
    "|Apriori                     |    17.670756       |       01.494634    |      00.306524     |\n",
    "|Eclat                       |    00.520795       |       00.332723    |      00.272711     |\n",
    "|FPGrowth                    |    00.350361       |       00.253348    |      00.273894     |"
   ]
  },
  {
   "cell_type": "markdown",
   "metadata": {},
   "source": [
    "<span style=\"color:green\">**Answer:** </span>  If we take lower minsup value the cost of execution of the algorithm vary differently. FPgrowth better than ECLAT, which is better than Apriori. <br> But as the value of minsup increases the execution time is decreased greatly in apriori algorithm. This makes the execution time of the the algorithms at high mnsup, almost similar.<br> Also there is not much change in the execution time of the FPGrowth algorithm when we change minsup value.  <br><br> So, if we take minsup high then the cost of execution is simliar in all these algorithms."
   ]
  },
  {
   "cell_type": "markdown",
   "metadata": {},
   "source": [
    "### 3. Discovering frequent subsequences and substrings"
   ]
  },
  {
   "cell_type": "markdown",
   "metadata": {},
   "source": [
    "Assume that roads in a Cincinnati are assigned numbers. Participants are enrolled in a transportation study and for every trip they make using their car, the sequence of roads taken are recorded. Trips that involves freeways are excluded. This data is in the file <span style=\"color:blue\">road_seq_data.dat</span>."
   ]
  },
  {
   "cell_type": "markdown",
   "metadata": {},
   "source": [
    "<span style=\"color:red\">**Question 3a:** </span>  What 'type' of sequence mining will you perform to determine frequently taken 'paths'? Paths are sequences of roads traveresed consecutively in the same order."
   ]
  },
  {
   "cell_type": "markdown",
   "metadata": {},
   "source": [
    "<span style=\"color:green\">**Answer:** </span> The frequent subsequence mining involves finding items that are common but there is no order in finding these subsequences, so finding the subsequences wont help to find the \"paths\". But in finding the Substring Mining, there is a specific order we need to find the substrings. There is a window of certain size and we need to find the substring with the same path that is we find the substring with the same \"path\".<br><br> Therefore, substring sequence mining will perform frequently taken \"paths\"."
   ]
  },
  {
   "cell_type": "markdown",
   "metadata": {},
   "source": [
    "<span style=\"color:red\">**Question 3b:** </span> How many sequences are there in this sequence database?"
   ]
  },
  {
   "cell_type": "code",
   "execution_count": 27,
   "metadata": {},
   "outputs": [
    {
     "name": "stdout",
     "output_type": "stream",
     "text": [
      "1000 road_seq_data.dat\r\n"
     ]
    }
   ],
   "source": [
    "!wc -l road_seq_data.dat"
   ]
  },
  {
   "cell_type": "markdown",
   "metadata": {},
   "source": [
    "<span style=\"color:green\">**Answer:** </span> 1000"
   ]
  },
  {
   "cell_type": "markdown",
   "metadata": {},
   "source": [
    "<span style=\"color:red\">**Question 3c:** </span> What is the size of the alphabet in this sequence database?"
   ]
  },
  {
   "cell_type": "code",
   "execution_count": 28,
   "metadata": {},
   "outputs": [
    {
     "name": "stdout",
     "output_type": "stream",
     "text": [
      "1283\r\n"
     ]
    }
   ],
   "source": [
    "!awk -- '{for (i = 1; i <= NF; i++) wc[$i] += 1}; END {print length(wc)}' road_seq_data.dat "
   ]
  },
  {
   "cell_type": "markdown",
   "metadata": {},
   "source": [
    "<span style=\"color:green\">**Answer:** </span> 1283"
   ]
  },
  {
   "cell_type": "markdown",
   "metadata": {},
   "source": [
    "<span style=\"color:red\">**Question 3d:** </span> What are the total number of possible subsequences of length 2 in this dataset?"
   ]
  },
  {
   "cell_type": "code",
   "execution_count": 29,
   "metadata": {},
   "outputs": [],
   "source": [
    "!chmod u+x prefixspan"
   ]
  },
  {
   "cell_type": "code",
   "execution_count": 30,
   "metadata": {},
   "outputs": [
    {
     "name": "stdout",
     "output_type": "stream",
     "text": [
      "PrefixSpan version 1.00 - Sequential Pattern Miner\r\n",
      "Written by Yasuo Tabei\r\n",
      "\r\n",
      "\r\n",
      "Usage: prefixspan [OPTION]... INFILE\r\n",
      "\r\n",
      "       where [OPTION]...  is a list of zero or more optional arguments\r\n",
      "             INFILE(s)    is the name of the input transaction database\r\n",
      "\r\n",
      "Additional arguments (at most one input file may be specified):\r\n",
      "       -min_sup [minimum support]\r\n",
      "       -max_pat [maximum pattern]\r\n",
      "\r\n"
     ]
    }
   ],
   "source": [
    "!./prefixspan"
   ]
  },
  {
   "cell_type": "code",
   "execution_count": 35,
   "metadata": {},
   "outputs": [
    {
     "name": "stdout",
     "output_type": "stream",
     "text": [
      "PrefixSpan version 1.00 - Sequential Pattern Miner\r\n",
      "Written by Yasuo Tabei\r\n",
      "\r\n"
     ]
    }
   ],
   "source": [
    "!./prefixspan -min_sup 1 road_seq_data.dat > road_minsup_1.dat"
   ]
  },
  {
   "cell_type": "code",
   "execution_count": 36,
   "metadata": {
    "scrolled": true
   },
   "outputs": [
    {
     "name": "stdout",
     "output_type": "stream",
     "text": [
      "\r\n",
      "( 0 1 2 3 4 5 6 7 8 9 10 11 12 13 14 15 16 17 18 19 20 21 22 23 24 25 26 27 28 29 30 31 32 33 34 35 36 37 38 39 40 41 42 43 44 45 46 47 48 49 50 51 52 53 54 55 56 57 58 59 60 61 62 63 64 65 66 67 68 69 70 71 72 73 74 75 76 77 78 79 80 81 82 83 84 85 86 87 88 89 90 91 92 93 94 95 96 97 98 99 100 101 102 103 104 105 106 107 108 109 110 111 112 113 114 115 116 117 118 119 120 121 122 123 124 125 126 127 128 129 130 131 132 133 134 135 136 137 138 139 140 141 142 143 144 145 146 147 148 149 150 151 152 153 154 155 156 157 158 159 160 161 162 163 164 165 166 167 168 169 170 171 172 173 174 175 176 177 178 179 180 181 182 183 184 185 186 187 188 189 190 191 192 193 194 195 196 197 198 199 200 201 202 203 204 205 206 207 208 209 210 211 212 213 214 215 216 217 218 219 220 221 222 223 224 225 226 227 228 229 230 231 232 233 234 235 236 237 238 239 240 241 242 243 244 245 246 247 248 249 250 251 252 253 254 255 256 257 258 259 260 261 262 263 264 265 266 267 268 269 270 271 272 273 274 275 276 277 278 279 280 281 282 283 284 285 286 287 288 289 290 291 292 293 294 295 296 297 298 299 300 301 302 303 304 305 306 307 308 309 310 311 312 313 314 315 316 317 318 319 320 321 322 323 324 325 326 327 328 329 330 331 332 333 334 335 336 337 338 339 340 341 342 343 344 345 346 347 348 349 350 351 352 353 354 355 356 357 358 359 360 361 362 363 364 365 366 367 368 369 370 371 372 373 374 375 376 377 378 379 380 381 382 383 384 385 386 387 388 389 390 391 392 393 394 395 396 397 398 399 400 401 402 403 404 405 406 407 408 409 410 411 412 413 414 415 416 417 418 419 420 421 422 423 424 425 426 427 428 429 430 431 432 433 434 435 436 437 438 439 440 441 442 443 444 445 446 447 448 449 450 451 452 453 454 455 456 457 458 459 460 461 462 463 464 465 466 467 468 469 470 471 472 473 474 475 476 477 478 479 480 481 482 483 484 485 486 487 488 489 490 491 492 493 494 495 496 497 498 499 500 501 502 503 504 505 506 507 508 509 510 511 512 513 514 515 516 517 518 519 520 521 522 523 524 525 526 527 528 529 530 531 532 533 534 535 536 537 538 539 540 541 542 543 544 545 546 547 548 549 550 551 552 553 554 555 556 557 558 559 560 561 562 563 564 565 566 567 568 569 570 571 572 573 574 575 576 577 578 579 580 581 582 583 584 585 586 587 588 589 590 591 592 593 594 595 596 597 598 599 600 601 602 603 604 605 606 607 608 609 610 611 612 613 614 615 616 617 618 619 620 621 622 623 624 625 626 627 628 629 630 631 632 633 634 635 636 637 638 639 640 641 642 643 644 645 646 647 648 649 650 651 652 653 654 655 656 657 658 659 660 661 662 663 664 665 666 667 668 669 670 671 672 673 674 675 676 677 678 679 680 681 682 683 684 685 686 687 688 689 690 691 692 693 694 695 696 697 698 699 700 701 702 703 704 705 706 707 708 709 710 711 712 713 714 715 716 717 718 719 720 721 722 723 724 725 726 727 728 729 730 731 732 733 734 735 736 737 738 739 740 741 742 743 744 745 746 747 748 749 750 751 752 753 754 755 756 757 758 759 760 761 762 763 764 765 766 767 768 769 770 771 772 773 774 775 776 777 778 779 780 781 782 783 784 785 786 787 788 789 790 791 792 793 794 795 796 797 798 799 800 801 802 803 804 805 806 807 808 809 810 811 812 813 814 815 816 817 818 819 820 821 822 823 824 825 826 827 828 829 830 831 832 833 834 835 836 837 838 839 840 841 842 843 844 845 846 847 848 849 850 851 852 853 854 855 856 857 858 859 860 861 862 863 864 865 866 867 868 869 870 871 872 873 874 875 876 877 878 879 880 881 882 883 884 885 886 887 888 889 890 891 892 893 894 895 896 897 898 899 900 901 902 903 904 905 906 907 908 909 910 911 912 913 914 915 916 917 918 919 920 921 922 923 924 925 926 927 928 929 930 931 932 933 934 935 936 937 938 939 940 941 942 943 944 945 946 947 948 949 950 951 952 953 954 955 956 957 958 959 960 961 962 963 964 965 966 967 968 969 970 971 972 973 974 975 976 977 978 979 980 981 982 983 984 985 986 987 988 989 990 991 992 993 994 995 996 997 998 999 ) : 1000\r\n",
      "1 \r\n",
      "( 0 24 47 61 71 78 85 94 100 114 121 129 134 148 156 176 183 206 211 225 233 246 258 283 288 302 319 361 366 383 454 489 521 547 586 614 640 664 695 706 743 775 801 819 850 881 898 920 942 960 ) : 50\r\n",
      "5 \r\n",
      "( 8 12 16 20 25 46 48 52 54 56 60 70 77 84 93 99 103 107 108 112 113 116 118 120 124 126 128 133 135 139 141 143 147 155 159 175 182 186 191 192 197 198 203 205 210 212 216 218 220 224 232 236 245 252 257 261 264 269 270 275 276 280 282 287 289 293 295 297 301 309 318 323 327 330 333 336 337 343 344 347 348 354 355 358 360 365 367 370 375 378 384 385 392 407 420 423 431 444 453 455 470 472 476 485 488 497 504 520 536 538 546 548 556 574 576 578 582 584 585 613 615 622 631 639 644 649 660 663 671 676 687 694 697 702 707 726 733 737 742 744 755 768 771 774 788 800 814 818 820 823 836 839 849 857 860 861 867 870 880 885 888 897 900 903 906 907 910 913 919 921 924 931 941 944 946 947 949 951 959 973 975 976 981 983 984 986 988 ) : 187\r\n",
      "5 18 \r\n",
      "( 54 141 218 264 295 472 768 839 900 931 ) : 10\r\n",
      "5 18 154 \r\n",
      "( 54 141 218 295 472 768 900 ) : 7\r\n"
     ]
    }
   ],
   "source": [
    "!head road_minsup_1.dat"
   ]
  },
  {
   "cell_type": "code",
   "execution_count": 37,
   "metadata": {
    "scrolled": true
   },
   "outputs": [
    {
     "name": "stdout",
     "output_type": "stream",
     "text": [
      "      1 0\n",
      "   1283 1\n",
      "  15927 2\n",
      "  71547 3\n",
      " 178215 4\n",
      "1603973 5\n",
      " 502491 6\n",
      " 330358 7\n",
      " 224946 8\n",
      " 109485 9\n",
      "  43350 10\n",
      "  13284 11\n",
      "   7438 12\n",
      "   1508 13\n",
      "   1268 14\n",
      "    499 15\n",
      "    406 16\n",
      "    328 17\n",
      "    385 18\n",
      "    218 19\n",
      "    142 20\n",
      "    146 21\n",
      "     75 22\n",
      "     61 23\n",
      "     94 24\n",
      "    165 25\n",
      "     18 26\n",
      "     24 27\n",
      "     42 28\n",
      "     21 29\n",
      "     34 30\n",
      "     76 31\n",
      "     38 32\n",
      "     41 33\n",
      "     79 34\n",
      "     16 35\n",
      "     53 36\n",
      "     20 37\n",
      "      8 38\n",
      "     28 39\n",
      "     40 40\n",
      "      4 41\n",
      "     33 42\n",
      "      2 43\n",
      "      2 44\n",
      "      6 46\n",
      "      7 47\n",
      "      7 48\n",
      "      4 49\n",
      "     19 50\n",
      "     36 51\n",
      "     10 53\n",
      "      8 54\n",
      "      4 55\n",
      "      3 56\n",
      "      3 57\n",
      "      5 58\n",
      "      7 59\n",
      "      4 60\n",
      "      7 61\n",
      "      2 62\n",
      "      3 63\n",
      "      5 64\n",
      "      4 65\n",
      "      3 66\n",
      "      1 69\n",
      "      6 72\n",
      "      4 75\n",
      "      4 76\n",
      "      6 78\n",
      "      1 81\n",
      "      1 82\n",
      "      3 83\n",
      "      5 85\n",
      "      4 89\n",
      "      4 92\n",
      "      6 93\n",
      "      1 94\n",
      "      2 95\n",
      "      2 98\n",
      "      3 100\n",
      "      1 101\n",
      "      2 102\n",
      "      6 104\n",
      "      2 108\n",
      "      1 112\n",
      "      2 117\n",
      "      1 118\n",
      "      2 120\n",
      "      2 138\n",
      "      3 142\n",
      "      1 145\n",
      "      3 155\n",
      "      1 172\n",
      "      2 174\n",
      "      2 191\n",
      "      2 236\n",
      "      1 254\n",
      "      1 503\n",
      "      2 505\n",
      "      1 1004\n"
     ]
    }
   ],
   "source": [
    "!awk '{print NF}' road_minsup_1.dat|sort -n|uniq -c"
   ]
  },
  {
   "cell_type": "code",
   "execution_count": 48,
   "metadata": {},
   "outputs": [],
   "source": [
    "Answer :: 15927"
   ]
  },
  {
   "cell_type": "markdown",
   "metadata": {},
   "source": [
    "<span style=\"color:red\">**Question 3e:** </span> What are the total number of possible substrings of length 2 in this dataset?"
   ]
  },
  {
   "cell_type": "code",
   "execution_count": 39,
   "metadata": {},
   "outputs": [
    {
     "name": "stdout",
     "output_type": "stream",
     "text": [
      "./seqwog - find frequent sequences without gaps\r\n",
      "version 3.16 (2016.10.15)        (c) 2010-2016   Christian Borgelt\r\n",
      "reading road_seq_data.dat ... [1283 item(s), 1000 transaction(s)] done [0.00s].\r\n",
      "recoding items ... [1283 item(s)] done [0.00s].\r\n",
      "reducing and triming transactions ... [910/1000 transaction(s)] done [0.00s].\r\n",
      "writing road_min_1.txt ... [28556 sequence(s)] done [0.03s].\r\n"
     ]
    }
   ],
   "source": [
    "!./seqwog -ts -s-1 road_seq_data.dat road_min_1.txt"
   ]
  },
  {
   "cell_type": "code",
   "execution_count": 40,
   "metadata": {},
   "outputs": [
    {
     "name": "stdout",
     "output_type": "stream",
     "text": [
      "   1283 1\n",
      "   2295 2\n",
      "   3247 3\n",
      "   3874 4\n",
      "   3990 5\n",
      "   3758 6\n",
      "   3311 7\n",
      "   2669 8\n",
      "   1946 9\n",
      "   1204 10\n",
      "    614 11\n",
      "    267 12\n",
      "     83 13\n",
      "     15 14\n"
     ]
    }
   ],
   "source": [
    "!awk '{print NF-1}' road_min_1.txt|sort -n|uniq -c"
   ]
  },
  {
   "cell_type": "code",
   "execution_count": 42,
   "metadata": {},
   "outputs": [],
   "source": [
    "Answer :: 2295"
   ]
  },
  {
   "cell_type": "markdown",
   "metadata": {},
   "source": [
    "<span style=\"color:red\">**Question 3f:** </span> Discover frequent __subsequences__ with minsup = 10 and report the number of subsequences discovered."
   ]
  },
  {
   "cell_type": "code",
   "execution_count": 43,
   "metadata": {},
   "outputs": [],
   "source": [
    "!chmod u+x sequoia"
   ]
  },
  {
   "cell_type": "code",
   "execution_count": 44,
   "metadata": {},
   "outputs": [
    {
     "name": "stdout",
     "output_type": "stream",
     "text": [
      "./sequoia - sequence mining with unique occurrences of items and weight averaging\n",
      "version 2.16 (2016.10.15)        (c) 2010-2016   Christian Borgelt\n",
      "reading road_seq_data.dat ... [1283 item(s), 1000 transaction(s)] done [0.00s].\n",
      "recoding items ... [1283 item(s)] done [0.00s].\n",
      "filtering and reducing transactions ... [910/1000 transaction(s)] done [0.00s].\n",
      "writing subsequences_10.txt ... [4588 sequence(s)] done [0.03s].\n"
     ]
    }
   ],
   "source": [
    "!./sequoia -ts -s-10 road_seq_data.dat subsequences_10.txt"
   ]
  },
  {
   "cell_type": "code",
   "execution_count": 45,
   "metadata": {},
   "outputs": [
    {
     "name": "stdout",
     "output_type": "stream",
     "text": [
      "PrefixSpan version 1.00 - Sequential Pattern Miner\r\n",
      "Written by Yasuo Tabei\r\n",
      "\r\n"
     ]
    }
   ],
   "source": [
    "!./prefixspan -min_sup 10 road_seq_data.dat > prefix_minsup10.dat"
   ]
  },
  {
   "cell_type": "code",
   "execution_count": 46,
   "metadata": {},
   "outputs": [
    {
     "name": "stdout",
     "output_type": "stream",
     "text": [
      "9178 prefix_minsup10.dat\r\n"
     ]
    }
   ],
   "source": [
    "!wc -l prefix_minsup10.dat"
   ]
  },
  {
   "cell_type": "markdown",
   "metadata": {},
   "source": [
    "<span style=\"color:green\">**Answer:** </span> 9178"
   ]
  },
  {
   "cell_type": "markdown",
   "metadata": {},
   "source": [
    "<span style=\"color:red\">**Question 3g:** </span>  Discover frequent __substrings__ with minsup = 10 and report the number of substrings discovered."
   ]
  },
  {
   "cell_type": "code",
   "execution_count": 47,
   "metadata": {},
   "outputs": [
    {
     "name": "stdout",
     "output_type": "stream",
     "text": [
      "./seqwog - find frequent sequences without gaps\r\n",
      "version 3.16 (2016.10.15)        (c) 2010-2016   Christian Borgelt\r\n",
      "reading road_seq_data.dat ... [1283 item(s), 1000 transaction(s)] done [0.00s].\r\n",
      "recoding items ... [1283 item(s)] done [0.00s].\r\n",
      "reducing and triming transactions ... [844/1000 transaction(s)] done [0.00s].\r\n",
      "writing substrings_10.txt ... [613 sequence(s)] done [0.00s].\r\n"
     ]
    }
   ],
   "source": [
    "!./seqwog -ts -s-10 road_seq_data.dat substrings_10.txt"
   ]
  },
  {
   "cell_type": "markdown",
   "metadata": {},
   "source": [
    "<span style=\"color:green\">**Answer:** </span> 613 substrings.\n"
   ]
  },
  {
   "cell_type": "markdown",
   "metadata": {},
   "source": [
    "<span style=\"color:red\">**Question 3h:** </span> Explain the difference in the number of frequent subsequences and substrings found in __3f__ and __3g__ above."
   ]
  },
  {
   "cell_type": "markdown",
   "metadata": {},
   "source": [
    "<span style=\"color:green\">**Answer:** </span> The number of subsequences found for the given dataset is more than the number of substrings found for the same given minsup."
   ]
  },
  {
   "cell_type": "code",
   "execution_count": null,
   "metadata": {},
   "outputs": [],
   "source": []
  }
 ],
 "metadata": {
  "kernelspec": {
   "display_name": "Python 3.6 [python/3.6 ]",
   "language": "python",
   "name": "sys_python36"
  },
  "language_info": {
   "codemirror_mode": {
    "name": "ipython",
    "version": 3
   },
   "file_extension": ".py",
   "mimetype": "text/x-python",
   "name": "python",
   "nbconvert_exporter": "python",
   "pygments_lexer": "ipython3",
   "version": "3.6.3"
  }
 },
 "nbformat": 4,
 "nbformat_minor": 2
}
